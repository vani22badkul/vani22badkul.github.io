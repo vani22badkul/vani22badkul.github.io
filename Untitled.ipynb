{
 "cells": [
  {
   "cell_type": "markdown",
   "metadata": {},
   "source": [
    "# Basic school adminstration tool"
   ]
  },
  {
   "cell_type": "code",
   "execution_count": 11,
   "metadata": {},
   "outputs": [
    {
     "name": "stdout",
     "output_type": "stream",
     "text": [
      "Enter student information for student #1 in the following format (Name Age contact_number E-mail_ID):sanam 19 890786897 snam!yaahu.com\n",
      "Entered information :  sanam 19 890786897 snam!yaahu.com\n",
      "Entered information is -\n",
      "Name :sanam\n",
      "Age : 19\n",
      "Contact Number : 890786897\n",
      "Email Id : snam!yaahu.com\n",
      "Is the entered information is correct ? (yes/no):yes\n",
      "Enter (yes/no) if you want to enter information for another student: yes\n",
      "Enter student information for student #2 in the following format (Name Age contact_number E-mail_ID):nasik 67 89789789 nasic@.in\n",
      "Entered information :  nasik 67 89789789 nasic@.in\n",
      "Entered information is -\n",
      "Name :nasik\n",
      "Age : 67\n",
      "Contact Number : 89789789\n",
      "Email Id : nasic@.in\n",
      "Is the entered information is correct ? (yes/no):yes\n",
      "Enter (yes/no) if you want to enter information for another student: no\n"
     ]
    }
   ],
   "source": [
    "import csv\n",
    "\n",
    "def write_into_csv(info_list):\n",
    "    with open('student_info.csv','a',newline='') as csv_file:\n",
    "        writer=csv.writer(csv_file)\n",
    "        if csv_file.tell()==0:\n",
    "            writer.writerow([\"Name\", \"Age\", \"ConatctNumber\", \"E-mail_ID\"])\n",
    "        \n",
    "        writer.writerow(info_list)\n",
    "\n",
    "if __name__ == '__main__':        \n",
    "    condition=True\n",
    "    student_num=1\n",
    "    \n",
    "    while(condition):\n",
    "        student_info=input(\"Enter student information for student #{} in the following format (Name Age contact_number E-mail_ID):\".format(student_num))\n",
    "        print(\"Entered information : \",student_info)\n",
    "\n",
    "        #split\n",
    "        student_info_list=student_info.split(' ')\n",
    "\n",
    "        print(\"Entered information is -\\nName :{}\\nAge : {}\\nContact Number : {}\\nEmail Id : {}\".format(student_info_list[0], student_info_list[1], student_info_list[2],student_info_list[3]))\n",
    "        \n",
    "        \n",
    "        choice_check=input('Is the entered information is correct ? (yes/no):')\n",
    "        if choice_check==\"yes\":\n",
    "            write_into_csv(student_info_list)\n",
    "\n",
    "            condition_check=input(\"Enter (yes/no) if you want to enter information for another student: \")\n",
    "            if condition_check=='yes':\n",
    "                condition=True\n",
    "                student_num += 1\n",
    "            elif condition_check=='no':\n",
    "                condition=False\n",
    "        elif choice_check=='no':\n",
    "            print(\"\\nplease re-enter the information!\")"
   ]
  },
  {
   "cell_type": "code",
   "execution_count": null,
   "metadata": {},
   "outputs": [],
   "source": []
  },
  {
   "cell_type": "code",
   "execution_count": null,
   "metadata": {},
   "outputs": [],
   "source": []
  }
 ],
 "metadata": {
  "kernelspec": {
   "display_name": "Python 3",
   "language": "python",
   "name": "python3"
  }
 },
 "nbformat": 4,
 "nbformat_minor": 4
}
